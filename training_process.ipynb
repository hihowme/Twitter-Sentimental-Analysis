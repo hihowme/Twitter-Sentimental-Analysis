{
 "cells": [
  {
   "cell_type": "markdown",
   "metadata": {},
   "source": [
    "# Deep Learning Training Model for NLP"
   ]
  },
  {
   "cell_type": "code",
   "execution_count": 114,
   "metadata": {},
   "outputs": [],
   "source": [
    "import pandas as pd\n",
    "import numpy as np\n",
    "import pickle\n",
    "import itertools\n",
    "import matplotlib.pyplot as plt\n",
    "from gensim.models import Word2Vec\n",
    "from sklearn.preprocessing import LabelEncoder\n",
    "from keras.preprocessing.text import Tokenizer\n",
    "from keras.preprocessing.sequence import pad_sequences\n",
    "from keras.models import Sequential\n",
    "from keras.layers import Dense, Embedding, Dropout, LSTM\n",
    "from keras.callbacks import ReduceLROnPlateau, EarlyStopping\n",
    "from sklearn.model_selection import train_test_split\n",
    "from preprocessing import *\n",
    "from sklearn.metrics import confusion_matrix, accuracy_score"
   ]
  },
  {
   "cell_type": "markdown",
   "metadata": {},
   "source": [
    "### Import csv file & preprocessing the text"
   ]
  },
  {
   "cell_type": "code",
   "execution_count": 5,
   "metadata": {},
   "outputs": [],
   "source": [
    "total_df = pd.read_csv(\"dataset/train.csv\", encoding=\"ISO-8859-1\")\n",
    "total_df.columns = [\"ItemID\", \"sentiment\", \"text\"]\n",
    "total_df.drop([\"ItemID\"], axis=1, inplace=True)\n",
    "total_df.dropna(inplace=True)\n",
    "total_df[\"text\"] = total_df[\"text\"].apply(clean_text)\n",
    "total_df[\"sentiment\"] = total_df[\"sentiment\"].apply(float)\n",
    "total_df.sentiment = total_df.sentiment.replace(1.0, \"positive\")\n",
    "total_df.sentiment = total_df.sentiment.replace(0.0, \"negative\")"
   ]
  },
  {
   "cell_type": "code",
   "execution_count": 6,
   "metadata": {},
   "outputs": [
    {
     "data": {
      "text/html": [
       "<div>\n",
       "<style scoped>\n",
       "    .dataframe tbody tr th:only-of-type {\n",
       "        vertical-align: middle;\n",
       "    }\n",
       "\n",
       "    .dataframe tbody tr th {\n",
       "        vertical-align: top;\n",
       "    }\n",
       "\n",
       "    .dataframe thead th {\n",
       "        text-align: right;\n",
       "    }\n",
       "</style>\n",
       "<table border=\"1\" class=\"dataframe\">\n",
       "  <thead>\n",
       "    <tr style=\"text-align: right;\">\n",
       "      <th></th>\n",
       "      <th>sentiment</th>\n",
       "      <th>text</th>\n",
       "    </tr>\n",
       "  </thead>\n",
       "  <tbody>\n",
       "    <tr>\n",
       "      <th>0</th>\n",
       "      <td>negative</td>\n",
       "      <td>sad apl friend</td>\n",
       "    </tr>\n",
       "    <tr>\n",
       "      <th>1</th>\n",
       "      <td>negative</td>\n",
       "      <td>miss new moon trailer</td>\n",
       "    </tr>\n",
       "    <tr>\n",
       "      <th>2</th>\n",
       "      <td>positive</td>\n",
       "      <td>omg alreadi</td>\n",
       "    </tr>\n",
       "    <tr>\n",
       "      <th>3</th>\n",
       "      <td>negative</td>\n",
       "      <td>omgaga im sooo im gunna cri thi dentist sinc w...</td>\n",
       "    </tr>\n",
       "    <tr>\n",
       "      <th>4</th>\n",
       "      <td>negative</td>\n",
       "      <td>think mi bf cheat</td>\n",
       "    </tr>\n",
       "    <tr>\n",
       "      <th>5</th>\n",
       "      <td>negative</td>\n",
       "      <td>worri much</td>\n",
       "    </tr>\n",
       "    <tr>\n",
       "      <th>6</th>\n",
       "      <td>positive</td>\n",
       "      <td>juuuuuuuuuuuuuuuuussssst chillin</td>\n",
       "    </tr>\n",
       "    <tr>\n",
       "      <th>7</th>\n",
       "      <td>negative</td>\n",
       "      <td>sunni work tomorrow tv tonight</td>\n",
       "    </tr>\n",
       "    <tr>\n",
       "      <th>8</th>\n",
       "      <td>positive</td>\n",
       "      <td>hand uniform today miss alreadi</td>\n",
       "    </tr>\n",
       "    <tr>\n",
       "      <th>9</th>\n",
       "      <td>positive</td>\n",
       "      <td>hmmmm wonder number</td>\n",
       "    </tr>\n",
       "  </tbody>\n",
       "</table>\n",
       "</div>"
      ],
      "text/plain": [
       "  sentiment                                               text\n",
       "0  negative                                     sad apl friend\n",
       "1  negative                              miss new moon trailer\n",
       "2  positive                                        omg alreadi\n",
       "3  negative  omgaga im sooo im gunna cri thi dentist sinc w...\n",
       "4  negative                                  think mi bf cheat\n",
       "5  negative                                         worri much\n",
       "6  positive                   juuuuuuuuuuuuuuuuussssst chillin\n",
       "7  negative                     sunni work tomorrow tv tonight\n",
       "8  positive                    hand uniform today miss alreadi\n",
       "9  positive                                hmmmm wonder number"
      ]
     },
     "execution_count": 6,
     "metadata": {},
     "output_type": "execute_result"
    }
   ],
   "source": [
    "total_df.head(10)"
   ]
  },
  {
   "cell_type": "markdown",
   "metadata": {},
   "source": [
    "### Split train and test set"
   ]
  },
  {
   "cell_type": "code",
   "execution_count": 7,
   "metadata": {},
   "outputs": [
    {
     "name": "stdout",
     "output_type": "stream",
     "text": [
      "training set in the length of 79991\n",
      "testing set in the length of 19998\n"
     ]
    }
   ],
   "source": [
    "train_df, test_df = train_test_split(total_df, test_size=0.2, random_state=42)\n",
    "print(\"training set in the length of {}\".format(len(train_df)))\n",
    "print(\"testing set in the length of {}\".format(len(test_df)))"
   ]
  },
  {
   "cell_type": "code",
   "execution_count": 8,
   "metadata": {},
   "outputs": [],
   "source": [
    "#get the list of text and sentiment in the training set\n",
    "train_text = train_df.text.tolist()\n",
    "train_sentiment = train_df.sentiment.tolist()\n",
    "\n",
    "#get the list of text and sentiment in the testing set\n",
    "test_text = test_df.text.tolist()\n",
    "test_sentiment = test_df.sentiment.tolist()"
   ]
  },
  {
   "cell_type": "markdown",
   "metadata": {},
   "source": [
    "### Train word2vec model"
   ]
  },
  {
   "cell_type": "code",
   "execution_count": 9,
   "metadata": {},
   "outputs": [],
   "source": [
    "# train a model by yourself\n",
    "train_text_w2v = [i.split() for i in train_text]\n",
    "w2v = Word2Vec(train_text_w2v, size=200, window=5, min_count=5, workers=8)\n",
    "\n",
    "# save model\n",
    "w2v.save(\"model.w2v\")"
   ]
  },
  {
   "cell_type": "code",
   "execution_count": null,
   "metadata": {},
   "outputs": [
    {
     "name": "stdout",
     "output_type": "stream",
     "text": [
      "[=====---------------------------------------------] 10.7% 11.2/104.8MB downloaded"
     ]
    }
   ],
   "source": [
    "# Too Slow on laptop\n",
    "# use a pretrained model for the unorganized text messages\n",
    "# import gensim.downloader as api\n",
    "# w2v = api.load(\"glove-twitter-25\")\n",
    "# print(w2v.most_similar(\"ok\"))"
   ]
  },
  {
   "cell_type": "code",
   "execution_count": 14,
   "metadata": {},
   "outputs": [],
   "source": [
    "# tokenize training text\n",
    "t = Tokenizer()\n",
    "t.fit_on_texts(train_text)\n",
    "n_v = len(t.word_index) + 1\n",
    "\n",
    "# save model\n",
    "pickle.dump(t, open(\"tokenizer.pkl\", \"wb\"), protocol=0)"
   ]
  },
  {
   "cell_type": "code",
   "execution_count": 15,
   "metadata": {},
   "outputs": [],
   "source": [
    "# make it into pad sequence\n",
    "x_train = pad_sequences(t.texts_to_sequences(train_text), maxlen=100)\n",
    "x_test = pad_sequences(t.texts_to_sequences(test_text), maxlen=100)"
   ]
  },
  {
   "cell_type": "code",
   "execution_count": 16,
   "metadata": {},
   "outputs": [
    {
     "data": {
      "text/plain": [
       "LabelEncoder()"
      ]
     },
     "execution_count": 16,
     "metadata": {},
     "output_type": "execute_result"
    }
   ],
   "source": [
    "# Normalize encode sentiment information (classification)\n",
    "e = LabelEncoder()\n",
    "e.fit(train_sentiment)\n",
    "\n",
    "# save model\n",
    "pickle.dump(e, open(\"encoder.pkl\", \"wb\"), protocol=0)"
   ]
  },
  {
   "cell_type": "code",
   "execution_count": 17,
   "metadata": {},
   "outputs": [],
   "source": [
    "y_train = e.transform(train_sentiment).reshape(-1, 1)\n",
    "y_test = e.transform(test_sentiment).reshape(-1, 1)"
   ]
  },
  {
   "cell_type": "code",
   "execution_count": 18,
   "metadata": {},
   "outputs": [],
   "source": [
    "# Word embedding\n",
    "embed_matrix = np.zeros((n_v, 200))\n",
    "for i, j in t.word_index.items():\n",
    "    if i in w2v.wv:\n",
    "        embed_matrix[j] = w2v.wv[i]\n",
    "\n",
    "embedding_layer = Embedding(\n",
    "    n_v, 200, weights=[embed_matrix], input_length=100, trainable=False\n",
    ")"
   ]
  },
  {
   "cell_type": "markdown",
   "metadata": {},
   "source": [
    "### Create and train Sequential Model"
   ]
  },
  {
   "cell_type": "code",
   "execution_count": 19,
   "metadata": {},
   "outputs": [
    {
     "name": "stdout",
     "output_type": "stream",
     "text": [
      "Train on 71991 samples, validate on 8000 samples\n",
      "Epoch 1/50\n",
      "71991/71991 [==============================] - 81s 1ms/step - loss: 0.2152 - mse: 0.2152 - val_loss: 0.1913 - val_mse: 0.1913\n",
      "Epoch 2/50\n"
     ]
    },
    {
     "name": "stderr",
     "output_type": "stream",
     "text": [
      "/Users/haihaoguo/anaconda3/lib/python3.7/site-packages/keras/callbacks/callbacks.py:846: RuntimeWarning: Early stopping conditioned on metric `val_acc` which is not available. Available metrics are: val_loss,val_mse,loss,mse,lr\n",
      "  (self.monitor, ','.join(list(logs.keys()))), RuntimeWarning\n"
     ]
    },
    {
     "name": "stdout",
     "output_type": "stream",
     "text": [
      "71991/71991 [==============================] - 82s 1ms/step - loss: 0.1985 - mse: 0.1985 - val_loss: 0.1849 - val_mse: 0.1849\n",
      "Epoch 3/50\n",
      "71991/71991 [==============================] - 87s 1ms/step - loss: 0.1943 - mse: 0.1943 - val_loss: 0.1846 - val_mse: 0.1846\n",
      "Epoch 4/50\n",
      "71991/71991 [==============================] - 84s 1ms/step - loss: 0.1917 - mse: 0.1917 - val_loss: 0.1824 - val_mse: 0.1824\n",
      "Epoch 5/50\n",
      "71991/71991 [==============================] - 82s 1ms/step - loss: 0.1896 - mse: 0.1896 - val_loss: 0.1822 - val_mse: 0.1822\n",
      "Epoch 6/50\n",
      "71991/71991 [==============================] - 80s 1ms/step - loss: 0.1886 - mse: 0.1886 - val_loss: 0.1804 - val_mse: 0.1804\n",
      "Epoch 7/50\n",
      "71991/71991 [==============================] - 85s 1ms/step - loss: 0.1876 - mse: 0.1876 - val_loss: 0.1801 - val_mse: 0.1801\n",
      "Epoch 8/50\n",
      "71991/71991 [==============================] - 85s 1ms/step - loss: 0.1865 - mse: 0.1865 - val_loss: 0.1797 - val_mse: 0.1797\n",
      "Epoch 9/50\n",
      "71991/71991 [==============================] - 83s 1ms/step - loss: 0.1862 - mse: 0.1862 - val_loss: 0.1785 - val_mse: 0.1785\n",
      "Epoch 10/50\n",
      "71991/71991 [==============================] - 85s 1ms/step - loss: 0.1849 - mse: 0.1849 - val_loss: 0.1780 - val_mse: 0.1780\n",
      "Epoch 11/50\n",
      "71991/71991 [==============================] - 79s 1ms/step - loss: 0.1839 - mse: 0.1839 - val_loss: 0.1770 - val_mse: 0.1770\n",
      "Epoch 12/50\n",
      "71991/71991 [==============================] - 86s 1ms/step - loss: 0.1833 - mse: 0.1833 - val_loss: 0.1775 - val_mse: 0.1775\n",
      "Epoch 13/50\n",
      "71991/71991 [==============================] - 83s 1ms/step - loss: 0.1822 - mse: 0.1822 - val_loss: 0.1769 - val_mse: 0.1769\n",
      "Epoch 14/50\n",
      "71991/71991 [==============================] - 85s 1ms/step - loss: 0.1822 - mse: 0.1822 - val_loss: 0.1777 - val_mse: 0.1777\n",
      "Epoch 15/50\n",
      "71991/71991 [==============================] - 82s 1ms/step - loss: 0.1809 - mse: 0.1809 - val_loss: 0.1765 - val_mse: 0.1765\n",
      "Epoch 16/50\n",
      "71991/71991 [==============================] - 82s 1ms/step - loss: 0.1807 - mse: 0.1807 - val_loss: 0.1764 - val_mse: 0.1764\n",
      "Epoch 17/50\n",
      "71991/71991 [==============================] - 80s 1ms/step - loss: 0.1802 - mse: 0.1802 - val_loss: 0.1753 - val_mse: 0.1753\n",
      "Epoch 18/50\n",
      "71991/71991 [==============================] - 81s 1ms/step - loss: 0.1797 - mse: 0.1797 - val_loss: 0.1746 - val_mse: 0.1746\n",
      "Epoch 19/50\n",
      "71991/71991 [==============================] - 83s 1ms/step - loss: 0.1795 - mse: 0.1795 - val_loss: 0.1760 - val_mse: 0.1760\n",
      "Epoch 20/50\n",
      "71991/71991 [==============================] - 85s 1ms/step - loss: 0.1788 - mse: 0.1788 - val_loss: 0.1740 - val_mse: 0.1740\n",
      "Epoch 21/50\n",
      "71991/71991 [==============================] - 85s 1ms/step - loss: 0.1782 - mse: 0.1782 - val_loss: 0.1746 - val_mse: 0.1746\n",
      "Epoch 22/50\n",
      "71991/71991 [==============================] - 81s 1ms/step - loss: 0.1776 - mse: 0.1776 - val_loss: 0.1748 - val_mse: 0.1748\n",
      "Epoch 23/50\n",
      "71991/71991 [==============================] - 82s 1ms/step - loss: 0.1781 - mse: 0.1781 - val_loss: 0.1733 - val_mse: 0.1733\n",
      "Epoch 24/50\n",
      "71991/71991 [==============================] - 81s 1ms/step - loss: 0.1765 - mse: 0.1765 - val_loss: 0.1729 - val_mse: 0.1729\n",
      "Epoch 25/50\n",
      "71991/71991 [==============================] - 80s 1ms/step - loss: 0.1765 - mse: 0.1765 - val_loss: 0.1735 - val_mse: 0.1735\n",
      "Epoch 26/50\n",
      "71991/71991 [==============================] - 80s 1ms/step - loss: 0.1757 - mse: 0.1757 - val_loss: 0.1723 - val_mse: 0.1723\n",
      "Epoch 27/50\n",
      "71991/71991 [==============================] - 80s 1ms/step - loss: 0.1752 - mse: 0.1752 - val_loss: 0.1725 - val_mse: 0.1725\n",
      "Epoch 28/50\n",
      "71991/71991 [==============================] - 82s 1ms/step - loss: 0.1746 - mse: 0.1746 - val_loss: 0.1719 - val_mse: 0.1719\n",
      "Epoch 29/50\n",
      "71991/71991 [==============================] - 79s 1ms/step - loss: 0.1741 - mse: 0.1741 - val_loss: 0.1724 - val_mse: 0.1724\n",
      "Epoch 30/50\n",
      "71991/71991 [==============================] - 80s 1ms/step - loss: 0.1746 - mse: 0.1746 - val_loss: 0.1718 - val_mse: 0.1718\n",
      "Epoch 31/50\n",
      "71991/71991 [==============================] - 82s 1ms/step - loss: 0.1733 - mse: 0.1733 - val_loss: 0.1724 - val_mse: 0.1724\n",
      "Epoch 32/50\n",
      "71991/71991 [==============================] - 85s 1ms/step - loss: 0.1731 - mse: 0.1731 - val_loss: 0.1724 - val_mse: 0.1724\n",
      "Epoch 33/50\n",
      "71991/71991 [==============================] - 80s 1ms/step - loss: 0.1724 - mse: 0.1724 - val_loss: 0.1715 - val_mse: 0.1715\n",
      "Epoch 34/50\n",
      "71991/71991 [==============================] - 81s 1ms/step - loss: 0.1718 - mse: 0.1718 - val_loss: 0.1726 - val_mse: 0.1726\n",
      "Epoch 35/50\n",
      "71991/71991 [==============================] - 81s 1ms/step - loss: 0.1714 - mse: 0.1714 - val_loss: 0.1717 - val_mse: 0.1717\n",
      "Epoch 36/50\n",
      "71991/71991 [==============================] - 81s 1ms/step - loss: 0.1713 - mse: 0.1713 - val_loss: 0.1711 - val_mse: 0.1711\n",
      "Epoch 37/50\n",
      "71991/71991 [==============================] - 81s 1ms/step - loss: 0.1716 - mse: 0.1716 - val_loss: 0.1708 - val_mse: 0.1708\n",
      "Epoch 38/50\n",
      "71991/71991 [==============================] - 81s 1ms/step - loss: 0.1704 - mse: 0.1704 - val_loss: 0.1715 - val_mse: 0.1715\n",
      "Epoch 39/50\n",
      "71991/71991 [==============================] - 82s 1ms/step - loss: 0.1698 - mse: 0.1698 - val_loss: 0.1720 - val_mse: 0.1720\n",
      "Epoch 40/50\n",
      "71991/71991 [==============================] - 81s 1ms/step - loss: 0.1692 - mse: 0.1692 - val_loss: 0.1710 - val_mse: 0.1710\n",
      "Epoch 41/50\n",
      "71991/71991 [==============================] - 77s 1ms/step - loss: 0.1690 - mse: 0.1690 - val_loss: 0.1714 - val_mse: 0.1714\n",
      "Epoch 42/50\n",
      "71991/71991 [==============================] - 80s 1ms/step - loss: 0.1687 - mse: 0.1687 - val_loss: 0.1717 - val_mse: 0.1717\n",
      "Epoch 43/50\n",
      "71991/71991 [==============================] - 90s 1ms/step - loss: 0.1671 - mse: 0.1671 - val_loss: 0.1707 - val_mse: 0.1707\n",
      "Epoch 44/50\n",
      "71991/71991 [==============================] - 79s 1ms/step - loss: 0.1668 - mse: 0.1668 - val_loss: 0.1707 - val_mse: 0.1707\n",
      "Epoch 45/50\n",
      "71991/71991 [==============================] - 80s 1ms/step - loss: 0.1662 - mse: 0.1662 - val_loss: 0.1706 - val_mse: 0.1706\n",
      "Epoch 46/50\n",
      "71991/71991 [==============================] - 80s 1ms/step - loss: 0.1664 - mse: 0.1664 - val_loss: 0.1707 - val_mse: 0.1707\n",
      "Epoch 47/50\n",
      "71991/71991 [==============================] - 82s 1ms/step - loss: 0.1662 - mse: 0.1662 - val_loss: 0.1706 - val_mse: 0.1706\n",
      "Epoch 48/50\n",
      "71991/71991 [==============================] - 81s 1ms/step - loss: 0.1663 - mse: 0.1663 - val_loss: 0.1705 - val_mse: 0.1705\n",
      "Epoch 49/50\n",
      "71991/71991 [==============================] - 78s 1ms/step - loss: 0.1662 - mse: 0.1662 - val_loss: 0.1706 - val_mse: 0.1706\n",
      "Epoch 50/50\n",
      "71991/71991 [==============================] - 77s 1ms/step - loss: 0.1660 - mse: 0.1660 - val_loss: 0.1705 - val_mse: 0.1705\n"
     ]
    }
   ],
   "source": [
    "def create_model(layer):\n",
    "    '''create a Sequence model with a layer\n",
    "    '''\n",
    "    model = Sequential()\n",
    "    model.add(layer)\n",
    "    model.add(Dropout(0.5))\n",
    "    model.add(LSTM(100, dropout=0.2, recurrent_dropout=0.2))\n",
    "    model.add(Dense(1, activation=\"relu\"))\n",
    "    model.compile(loss=\"mse\", optimizer=\"adam\", metrics=[\"mse\"])\n",
    "    return model\n",
    "\n",
    "# Trace callbacks to know where we are\n",
    "callbacks = [\n",
    "    ReduceLROnPlateau(monitor=\"val_loss\", patience=5, cooldown=0),\n",
    "    EarlyStopping(monitor=\"val_mse\", min_delta=1e-4, patience=5),\n",
    "]\n",
    "\n",
    "model = create_model(embedding_layer)\n",
    "\n",
    "# save the information of model fitting in 'history'\n",
    "history = model.fit(\n",
    "    x_train,\n",
    "    y_train,\n",
    "    batch_size=256,\n",
    "    epochs=50,\n",
    "    validation_split=0.1,\n",
    "    verbose=1,\n",
    "    callbacks=callbacks,\n",
    ")\n",
    "\n",
    "# save model\n",
    "model.save(\"model.h5\")"
   ]
  },
  {
   "cell_type": "markdown",
   "metadata": {},
   "source": [
    "### Evaluate and plot the change of accuracy and loss through time"
   ]
  },
  {
   "cell_type": "code",
   "execution_count": 25,
   "metadata": {
    "scrolled": true
   },
   "outputs": [
    {
     "data": {
      "image/png": "[encoded data removed]",
      "text/plain": [
       "<Figure size 432x288 with 1 Axes>"
      ]
     },
     "metadata": {
      "needs_background": "light"
     },
     "output_type": "display_data"
    }
   ],
   "source": [
    "# Comparing the Training and validation loss\n",
    "\n",
    "loss = history.history['loss']\n",
    "val_loss = history.history['val_loss']\n",
    " \n",
    "epochs = range(len(loss))\n",
    " \n",
    "plt.plot(epochs, loss, 'b', label='Training loss')\n",
    "plt.plot(epochs, val_loss, 'r', label='Validation loss')\n",
    "plt.title('Training and validation loss')\n",
    "plt.legend()\n",
    " \n",
    "plt.show()"
   ]
  },
  {
   "cell_type": "markdown",
   "metadata": {},
   "source": [
    "### Confusion Matrix\n",
    "we could see from the graph that the training loss and validation loss are converging, that means there is a high probability we got a perfect fitting.\n",
    "\n",
    "Next we are going to draw the confusion matrix"
   ]
  },
  {
   "cell_type": "code",
   "execution_count": 127,
   "metadata": {},
   "outputs": [],
   "source": [
    "# We choose 0.57 as a threshold here based on several trying with the model\n",
    "def get_sentiment(score):\n",
    "        return 'negative' if score < 0.57 else 'positive'"
   ]
  },
  {
   "cell_type": "code",
   "execution_count": 128,
   "metadata": {},
   "outputs": [
    {
     "name": "stdout",
     "output_type": "stream",
     "text": [
      "19998/19998 [==============================] - 6s 294us/step\n"
     ]
    }
   ],
   "source": [
    "y_pred_1d = []\n",
    "y_test_1d = test_sentiment\n",
    "scores = model.predict(x_test, verbose=1, batch_size=8000)\n",
    "y_pred_1d = [get_sentiment(score) for score in scores]"
   ]
  },
  {
   "cell_type": "code",
   "execution_count": 129,
   "metadata": {},
   "outputs": [
    {
     "name": "stdout",
     "output_type": "stream",
     "text": [
      "[[0.72411429 0.27588571]\n",
      " [0.26858108 0.73141892]]\n"
     ]
    },
    {
     "data": {
      "image/png": "[encoded data removed]",
      "text/plain": [
       "<Figure size 576x576 with 2 Axes>"
      ]
     },
     "metadata": {
      "needs_background": "light"
     },
     "output_type": "display_data"
    }
   ],
   "source": [
    "labels = ['negative', 'positive']\n",
    "cm = confusion_matrix(y_test_1d, y_pred_1d, labels)\n",
    "cm = cm.astype('float') / cm.sum(axis=1)[:, np.newaxis]\n",
    "thresh = cm.max() / 2.\n",
    "print(cm)\n",
    "fig = plt.figure()\n",
    "ax = fig.add_subplot(111)\n",
    "cax = ax.matshow(cm)\n",
    "plt.title('Confusion matrix', fontsize=20)\n",
    "ax.set_xticklabels([''] + labels, fontsize=10)\n",
    "ax.set_yticklabels([''] + labels, fontsize=10)\n",
    "plt.imshow(cm, cmap=plt.cm.YlGn)\n",
    "plt.colorbar()\n",
    "plt.xlabel('Predicted', fontsize=20)\n",
    "plt.ylabel('True', fontsize=20)\n",
    "plt.rcParams[\"figure.figsize\"] = (8 ,8)\n",
    "for i, j in itertools.product(range(cm.shape[0]), range(cm.shape[1])):\n",
    "        plt.text(j, i, format(cm[i, j], '.2f'),\n",
    "                 horizontalalignment=\"center\",\n",
    "                 color=\"white\" if cm[i, j] > thresh else \"black\")\n",
    "plt.show()"
   ]
  },
  {
   "cell_type": "code",
   "execution_count": 130,
   "metadata": {},
   "outputs": [
    {
     "data": {
      "text/plain": [
       "0.7282228222822282"
      ]
     },
     "execution_count": 130,
     "metadata": {},
     "output_type": "execute_result"
    }
   ],
   "source": [
    "# Get the overall accuracy score\n",
    "accuracy_score(y_test_1d, y_pred_1d)"
   ]
  }
 ],
 "metadata": {
  "kernelspec": {
   "display_name": "Python 3",
   "language": "python",
   "name": "python3"
  },
  "language_info": {
   "codemirror_mode": {
    "name": "ipython",
    "version": 3
   },
   "file_extension": ".py",
   "mimetype": "text/x-python",
   "name": "python",
   "nbconvert_exporter": "python",
   "pygments_lexer": "ipython3",
   "version": "3.7.0"
  }
 },
 "nbformat": 4,
 "nbformat_minor": 2
}
